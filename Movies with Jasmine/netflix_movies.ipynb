{
 "cells": [
  {
   "cell_type": "code",
   "execution_count": 1,
   "id": "d71d26c5",
   "metadata": {},
   "outputs": [],
   "source": [
    "import pandas as pd\n",
    "from sqlalchemy import create_engine\n",
    "import warnings\n",
    "warnings.filterwarnings('ignore')"
   ]
  },
  {
   "cell_type": "code",
   "execution_count": 2,
   "id": "b8f32205",
   "metadata": {},
   "outputs": [],
   "source": [
    "link = 'Resources/netflix_titles.csv'\n",
    "netflix_df = pd.read_csv(link)\n",
    "\n",
    "\n",
    "netflix_df.drop(columns =['date_added','duration','rating','director','show_id'], inplace = True)\n",
    "\n",
    "netflix_df.dropna(subset = ['country'], inplace = True)\n",
    "\n",
    "netflix_movie = netflix_df.loc[netflix_df['type']=='Movie']\n",
    "\n",
    "netflix_movie.rename(columns={'listed_in':'genre'}, inplace =True)\n",
    "\n",
    "netflix_movie['Streaming Service']='netflix'\n",
    "netflix_movie.drop(columns=['type','cast'],inplace = True)\n",
    "\n",
    "netflix_movie.to_csv('Finalized CSV/netflix_movies.csv',index = False, header = True)\n",
    "\n"
   ]
  },
  {
   "cell_type": "code",
   "execution_count": null,
   "id": "cc397916",
   "metadata": {},
   "outputs": [],
   "source": []
  }
 ],
 "metadata": {
  "kernelspec": {
   "display_name": "Python 3 (ipykernel)",
   "language": "python",
   "name": "python3"
  },
  "language_info": {
   "codemirror_mode": {
    "name": "ipython",
    "version": 3
   },
   "file_extension": ".py",
   "mimetype": "text/x-python",
   "name": "python",
   "nbconvert_exporter": "python",
   "pygments_lexer": "ipython3",
   "version": "3.7.7"
  }
 },
 "nbformat": 4,
 "nbformat_minor": 5
}
